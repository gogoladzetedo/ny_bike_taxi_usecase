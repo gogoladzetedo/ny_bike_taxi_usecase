{
 "cells": [
  {
   "cell_type": "markdown",
   "id": "f6401eef",
   "metadata": {},
   "source": [
    "*install the libraries that are used in this solution*"
   ]
  },
  {
   "cell_type": "code",
   "execution_count": null,
   "id": "3184e86c",
   "metadata": {},
   "outputs": [],
   "source": [
    "!pip install pandas_redshift\n",
    "!pip install boto3\n",
    "!pip install awswrangler\n",
    "!pip install wwo-hist\n",
    "!pip install psycopg2\n",
    "!pip install sqlalchemy"
   ]
  },
  {
   "cell_type": "markdown",
   "id": "bd97ad4b",
   "metadata": {},
   "source": [
    "# Data Ingestion"
   ]
  },
  {
   "cell_type": "markdown",
   "id": "cafcf593",
   "metadata": {},
   "source": [
    "### 1. Datasets from sources \n",
    "##### 1.1. import BigQuery libraries and connect"
   ]
  },
  {
   "cell_type": "code",
   "execution_count": 4,
   "id": "73f34479",
   "metadata": {},
   "outputs": [],
   "source": [
    "import os\n",
    "os.environ['GOOGLE_APPLICATION_CREDENTIALS'] = ''\n",
    "import pandas as pd\n",
    "from google.cloud import bigquery\n",
    "from google.cloud import bigquery_storage\n",
    "\n",
    "bigquery_client = bigquery.Client()\n",
    "bqstorageclient = bigquery_storage.BigQueryReadClient()"
   ]
  },
  {
   "cell_type": "markdown",
   "id": "841d496f",
   "metadata": {},
   "source": [
    "##### 1.2. Configure DryRun to Check the cost of the queries on BigQuery"
   ]
  },
  {
   "cell_type": "code",
   "execution_count": 5,
   "id": "ef4d92c0",
   "metadata": {},
   "outputs": [
    {
     "name": "stdout",
     "output_type": "stream",
     "text": [
      "The cost of NY citibike query: 5811.781219482422 MegaBytes.\n",
      "The cost of NY taxi trips query: 403.1663360595703 MegaBytes.\n"
     ]
    }
   ],
   "source": [
    "config_dry_run = bigquery.QueryJobConfig(dry_run=True, use_query_cache=False)\n",
    "query_NYCBikeTrips = \"\"\"\n",
    "    Select \n",
    "          tripduration\n",
    "        , starttime\n",
    "        , stoptime\n",
    "        , start_station_id\n",
    "        , start_station_name\n",
    "        , start_station_latitude\n",
    "        , start_station_longitude\n",
    "        , end_station_id\n",
    "        , end_station_name\n",
    "        , end_station_latitude\n",
    "        , end_station_longitude\n",
    "        , ST_DISTANCE(\n",
    "            ST_GEOGPOINT(start_station_longitude, start_station_latitude)\n",
    "          , ST_GEOGPOINT(end_station_longitude, end_station_latitude)\n",
    "        ) AS trip_distance_meters\n",
    "    From `bigquery-public-data.new_york_citibike.citibike_trips`\n",
    "    Where starttime BETWEEN '2018-01-01' AND '2018-12-31'\n",
    "    ;\n",
    "    \"\"\"\n",
    "query_NYCTaxiTrips = \"\"\"\n",
    "    Select \n",
    "          pickup_datetime, dropoff_datetime, trip_distance, total_amount \n",
    "    From `bigquery-public-data.new_york_taxi_trips.tlc_green_trips_2018`;\n",
    "\"\"\"\n",
    "\n",
    "print(\"The cost of NY citibike query: {} MegaBytes.\".format(\n",
    "    bigquery_client.query(query_NYCBikeTrips, config_dry_run)\n",
    "    .total_bytes_processed/(1024*1024)))\n",
    "print(\"The cost of NY taxi trips query: {} MegaBytes.\".format(\n",
    "    bigquery_client.query(query_NYCTaxiTrips, config_dry_run)\n",
    "    .total_bytes_processed/(1024*1024)))"
   ]
  },
  {
   "cell_type": "markdown",
   "id": "48a63ed3",
   "metadata": {},
   "source": [
    "#### 1.3 Load datasets locally "
   ]
  },
  {
   "cell_type": "markdown",
   "id": "8b0af5ff",
   "metadata": {},
   "source": [
    "##### 1.3.1 Load the NYC bike trips dataset locally into pandas dataframe "
   ]
  },
  {
   "cell_type": "code",
   "execution_count": 6,
   "id": "bb220030",
   "metadata": {},
   "outputs": [
    {
     "name": "stdout",
     "output_type": "stream",
     "text": [
      "Wall time: 48.4 s\n"
     ]
    },
    {
     "data": {
      "text/html": [
       "<div>\n",
       "<style scoped>\n",
       "    .dataframe tbody tr th:only-of-type {\n",
       "        vertical-align: middle;\n",
       "    }\n",
       "\n",
       "    .dataframe tbody tr th {\n",
       "        vertical-align: top;\n",
       "    }\n",
       "\n",
       "    .dataframe thead th {\n",
       "        text-align: right;\n",
       "    }\n",
       "</style>\n",
       "<table border=\"1\" class=\"dataframe\">\n",
       "  <thead>\n",
       "    <tr style=\"text-align: right;\">\n",
       "      <th></th>\n",
       "      <th>tripduration</th>\n",
       "      <th>starttime</th>\n",
       "      <th>stoptime</th>\n",
       "      <th>start_station_id</th>\n",
       "      <th>start_station_name</th>\n",
       "      <th>start_station_latitude</th>\n",
       "      <th>start_station_longitude</th>\n",
       "      <th>end_station_id</th>\n",
       "      <th>end_station_name</th>\n",
       "      <th>end_station_latitude</th>\n",
       "      <th>end_station_longitude</th>\n",
       "      <th>trip_distance_meters</th>\n",
       "    </tr>\n",
       "  </thead>\n",
       "  <tbody>\n",
       "    <tr>\n",
       "      <th>0</th>\n",
       "      <td>772</td>\n",
       "      <td>2018-01-29 09:47:06.722</td>\n",
       "      <td>2018-01-29 09:59:59.591</td>\n",
       "      <td>443</td>\n",
       "      <td>Bedford Ave &amp; S 9 St</td>\n",
       "      <td>40.708531</td>\n",
       "      <td>-73.964090</td>\n",
       "      <td>3068</td>\n",
       "      <td>Humboldt St &amp; Varet St</td>\n",
       "      <td>40.703172</td>\n",
       "      <td>-73.940636</td>\n",
       "      <td>2064.819367</td>\n",
       "    </tr>\n",
       "    <tr>\n",
       "      <th>1</th>\n",
       "      <td>209</td>\n",
       "      <td>2018-04-18 14:50:19.547</td>\n",
       "      <td>2018-04-18 14:53:49.506</td>\n",
       "      <td>3244</td>\n",
       "      <td>University Pl &amp; E 8 St</td>\n",
       "      <td>40.731437</td>\n",
       "      <td>-73.994903</td>\n",
       "      <td>285</td>\n",
       "      <td>Broadway &amp; E 14 St</td>\n",
       "      <td>40.734546</td>\n",
       "      <td>-73.990741</td>\n",
       "      <td>492.391103</td>\n",
       "    </tr>\n",
       "    <tr>\n",
       "      <th>2</th>\n",
       "      <td>669</td>\n",
       "      <td>2018-02-08 15:49:41.827</td>\n",
       "      <td>2018-02-08 16:00:51.619</td>\n",
       "      <td>383</td>\n",
       "      <td>Greenwich Ave &amp; Charles St</td>\n",
       "      <td>40.735238</td>\n",
       "      <td>-74.000271</td>\n",
       "      <td>3474</td>\n",
       "      <td>6 Ave &amp; Spring St</td>\n",
       "      <td>40.725256</td>\n",
       "      <td>-74.004121</td>\n",
       "      <td>1156.415142</td>\n",
       "    </tr>\n",
       "  </tbody>\n",
       "</table>\n",
       "</div>"
      ],
      "text/plain": [
       "   tripduration               starttime                stoptime  \\\n",
       "0           772 2018-01-29 09:47:06.722 2018-01-29 09:59:59.591   \n",
       "1           209 2018-04-18 14:50:19.547 2018-04-18 14:53:49.506   \n",
       "2           669 2018-02-08 15:49:41.827 2018-02-08 16:00:51.619   \n",
       "\n",
       "   start_station_id          start_station_name  start_station_latitude  \\\n",
       "0               443        Bedford Ave & S 9 St               40.708531   \n",
       "1              3244      University Pl & E 8 St               40.731437   \n",
       "2               383  Greenwich Ave & Charles St               40.735238   \n",
       "\n",
       "   start_station_longitude  end_station_id        end_station_name  \\\n",
       "0               -73.964090            3068  Humboldt St & Varet St   \n",
       "1               -73.994903             285      Broadway & E 14 St   \n",
       "2               -74.000271            3474       6 Ave & Spring St   \n",
       "\n",
       "   end_station_latitude  end_station_longitude  trip_distance_meters  \n",
       "0             40.703172             -73.940636           2064.819367  \n",
       "1             40.734546             -73.990741            492.391103  \n",
       "2             40.725256             -74.004121           1156.415142  "
      ]
     },
     "execution_count": 6,
     "metadata": {},
     "output_type": "execute_result"
    }
   ],
   "source": [
    "%%time\n",
    "bqstorageclient = bigquery_storage.BigQueryReadClient()\n",
    "\n",
    "NYCtrips = (\n",
    "    bigquery_client.query(query_NYCBikeTrips)\n",
    "            .result()\n",
    "            .to_dataframe(\n",
    "                bqstorage_client=bqstorageclient)\n",
    ")\n",
    "NYCtrips.head(3)"
   ]
  },
  {
   "cell_type": "markdown",
   "id": "9f1b2465",
   "metadata": {},
   "source": [
    "##### 1.3.2 Load the NYC taxi trips dataset locally into pandas dataframe "
   ]
  },
  {
   "cell_type": "code",
   "execution_count": 7,
   "id": "030d65f4",
   "metadata": {},
   "outputs": [
    {
     "name": "stdout",
     "output_type": "stream",
     "text": [
      "Wall time: 39.1 s\n"
     ]
    },
    {
     "data": {
      "text/html": [
       "<div>\n",
       "<style scoped>\n",
       "    .dataframe tbody tr th:only-of-type {\n",
       "        vertical-align: middle;\n",
       "    }\n",
       "\n",
       "    .dataframe tbody tr th {\n",
       "        vertical-align: top;\n",
       "    }\n",
       "\n",
       "    .dataframe thead th {\n",
       "        text-align: right;\n",
       "    }\n",
       "</style>\n",
       "<table border=\"1\" class=\"dataframe\">\n",
       "  <thead>\n",
       "    <tr style=\"text-align: right;\">\n",
       "      <th></th>\n",
       "      <th>pickup_datetime</th>\n",
       "      <th>dropoff_datetime</th>\n",
       "      <th>trip_distance</th>\n",
       "      <th>total_amount</th>\n",
       "    </tr>\n",
       "  </thead>\n",
       "  <tbody>\n",
       "    <tr>\n",
       "      <th>0</th>\n",
       "      <td>2018-01-01 00:26:48</td>\n",
       "      <td>2018-01-01 00:52:56</td>\n",
       "      <td>7.530000000</td>\n",
       "      <td>30.960000000</td>\n",
       "    </tr>\n",
       "    <tr>\n",
       "      <th>1</th>\n",
       "      <td>2018-01-01 00:27:55</td>\n",
       "      <td>2018-01-01 00:48:47</td>\n",
       "      <td>10.970000000</td>\n",
       "      <td>31.800000000</td>\n",
       "    </tr>\n",
       "    <tr>\n",
       "      <th>2</th>\n",
       "      <td>2018-01-01 05:46:31</td>\n",
       "      <td>2018-01-02 05:29:27</td>\n",
       "      <td>18.050000000</td>\n",
       "      <td>53.300000000</td>\n",
       "    </tr>\n",
       "  </tbody>\n",
       "</table>\n",
       "</div>"
      ],
      "text/plain": [
       "      pickup_datetime    dropoff_datetime trip_distance  total_amount\n",
       "0 2018-01-01 00:26:48 2018-01-01 00:52:56   7.530000000  30.960000000\n",
       "1 2018-01-01 00:27:55 2018-01-01 00:48:47  10.970000000  31.800000000\n",
       "2 2018-01-01 05:46:31 2018-01-02 05:29:27  18.050000000  53.300000000"
      ]
     },
     "execution_count": 7,
     "metadata": {},
     "output_type": "execute_result"
    }
   ],
   "source": [
    "%%time\n",
    "bqstorageclient = bigquery_storage.BigQueryReadClient()\n",
    "\n",
    "NYCTaxiTrips = (\n",
    "    bigquery_client.query(query_NYCTaxiTrips)\n",
    "            .result()\n",
    "            .to_dataframe(\n",
    "                bqstorage_client=bqstorageclient)\n",
    ")\n",
    "NYCTaxiTrips.head(3)"
   ]
  },
  {
   "cell_type": "markdown",
   "id": "34902b95",
   "metadata": {},
   "source": [
    "##### 1.3.3 Load weather history data using world weather online API "
   ]
  },
  {
   "cell_type": "code",
   "execution_count": 9,
   "id": "6749615a",
   "metadata": {},
   "outputs": [
    {
     "name": "stdout",
     "output_type": "stream",
     "text": [
      "\n",
      "\n",
      "Retrieving weather data for new-york\n",
      "\n",
      "\n",
      "Currently retrieving data for new-york: from 2018-01-01 to 2018-01-31\n",
      "Time elapsed (hh:mm:ss.ms) 0:00:00.865327\n",
      "Currently retrieving data for new-york: from 2018-02-01 to 2018-02-28\n",
      "Time elapsed (hh:mm:ss.ms) 0:00:02.521676\n",
      "Currently retrieving data for new-york: from 2018-03-01 to 2018-03-31\n",
      "Time elapsed (hh:mm:ss.ms) 0:00:03.364315\n",
      "Currently retrieving data for new-york: from 2018-04-01 to 2018-04-30\n",
      "Time elapsed (hh:mm:ss.ms) 0:00:04.159108\n",
      "Currently retrieving data for new-york: from 2018-05-01 to 2018-05-31\n",
      "Time elapsed (hh:mm:ss.ms) 0:00:05.007306\n",
      "Currently retrieving data for new-york: from 2018-06-01 to 2018-06-30\n",
      "Time elapsed (hh:mm:ss.ms) 0:00:05.769933\n",
      "Currently retrieving data for new-york: from 2018-07-01 to 2018-07-31\n",
      "Time elapsed (hh:mm:ss.ms) 0:00:06.782478\n",
      "Currently retrieving data for new-york: from 2018-08-01 to 2018-08-31\n",
      "Time elapsed (hh:mm:ss.ms) 0:00:07.570103\n",
      "Currently retrieving data for new-york: from 2018-09-01 to 2018-09-30\n",
      "Time elapsed (hh:mm:ss.ms) 0:00:08.374119\n",
      "Currently retrieving data for new-york: from 2018-10-01 to 2018-10-31\n",
      "Time elapsed (hh:mm:ss.ms) 0:00:09.397059\n",
      "Currently retrieving data for new-york: from 2018-11-01 to 2018-11-30\n",
      "Time elapsed (hh:mm:ss.ms) 0:00:10.204618\n",
      "Currently retrieving data for new-york: from 2018-12-01 to 2018-12-31\n",
      "Time elapsed (hh:mm:ss.ms) 0:00:11.012634\n"
     ]
    }
   ],
   "source": [
    "import requests\n",
    "import json\n",
    "from wwo_hist import retrieve_hist_data\n",
    "\n",
    "frequency=1 # HOURLY\n",
    "start_date = '01-JAN-2018'\n",
    "end_date = '31-DEC-2018'\n",
    "api_key = api_key\n",
    "location_list = ['new-york']\n",
    "\n",
    "hist_weather_data_ny = retrieve_hist_data(api_key,\n",
    "                                location_list,\n",
    "                                start_date,\n",
    "                                end_date,\n",
    "                                frequency,\n",
    "                                location_label = False,\n",
    "                                export_csv = False,\n",
    "                                store_df = True)"
   ]
  },
  {
   "cell_type": "code",
   "execution_count": 10,
   "id": "16505e8a",
   "metadata": {},
   "outputs": [],
   "source": [
    "hist_weather_df = pd.DataFrame(hist_weather_data_ny[0])[['date_time'\n",
    "                                                        , 'totalSnow_cm'\n",
    "                                                        , 'FeelsLikeC'\n",
    "                                                        , 'humidity'\n",
    "                                                        , 'precipMM'\n",
    "                                                        , 'tempC'\n",
    "                                                        , 'visibility'\n",
    "                                                        , 'windspeedKmph']]\n"
   ]
  },
  {
   "cell_type": "markdown",
   "id": "ca4c2856",
   "metadata": {},
   "source": [
    "### Move data to the landing zone at S3"
   ]
  },
  {
   "cell_type": "markdown",
   "id": "0822821c",
   "metadata": {},
   "source": [
    "##### import boto and aweswrangler libraries, set environmental variables of IAM user AWS access key ID and secret"
   ]
  },
  {
   "cell_type": "code",
   "execution_count": 11,
   "id": "c64fc3c9",
   "metadata": {},
   "outputs": [],
   "source": [
    "import boto3\n",
    "import awswrangler as wr\n",
    "\n",
    "s3 = boto3.client(\"s3\")\n",
    "bucket_name = 'data-landing-vrf'"
   ]
  },
  {
   "cell_type": "markdown",
   "id": "850acbb0",
   "metadata": {},
   "source": [
    "##### store the local pd dataframes into S3 as csv"
   ]
  },
  {
   "cell_type": "code",
   "execution_count": 12,
   "id": "8cba8686",
   "metadata": {},
   "outputs": [
    {
     "name": "stdout",
     "output_type": "stream",
     "text": [
      "Wall time: 1min 53s\n"
     ]
    },
    {
     "data": {
      "text/plain": [
       "{'paths': ['s3://data-landing-vrf/landing/NYCBikeTrips/tripdata.csv'],\n",
       " 'partitions_values': {}}"
      ]
     },
     "execution_count": 12,
     "metadata": {},
     "output_type": "execute_result"
    }
   ],
   "source": [
    "%%time\n",
    "\n",
    "\n",
    "landing_path = f\"s3://{bucket_name}/landing/NYCBikeTrips/tripdata.csv\"\n",
    "wr.s3.to_csv(df=NYCtrips, path=landing_path, index =False)"
   ]
  },
  {
   "cell_type": "code",
   "execution_count": 13,
   "id": "12da0626",
   "metadata": {},
   "outputs": [
    {
     "name": "stdout",
     "output_type": "stream",
     "text": [
      "Wall time: 1min 15s\n"
     ]
    },
    {
     "data": {
      "text/plain": [
       "{'paths': ['s3://data-landing-vrf/landing/NYCTaxi/NYCTaxiData.csv'],\n",
       " 'partitions_values': {}}"
      ]
     },
     "execution_count": 13,
     "metadata": {},
     "output_type": "execute_result"
    }
   ],
   "source": [
    "%%time\n",
    "\n",
    "landing_path = f\"s3://{bucket_name}/landing/NYCTaxi/NYCTaxiData.csv\"\n",
    "wr.s3.to_csv(df=NYCTaxiTrips, path=landing_path, index =False)"
   ]
  },
  {
   "cell_type": "code",
   "execution_count": 14,
   "id": "83e8b806",
   "metadata": {},
   "outputs": [
    {
     "name": "stdout",
     "output_type": "stream",
     "text": [
      "Wall time: 375 ms\n"
     ]
    },
    {
     "data": {
      "text/plain": [
       "{'paths': ['s3://data-landing-vrf/landing/NYCWeather/NYCWeatherData.csv'],\n",
       " 'partitions_values': {}}"
      ]
     },
     "execution_count": 14,
     "metadata": {},
     "output_type": "execute_result"
    }
   ],
   "source": [
    "%%time\n",
    "\n",
    "landing_path = f\"s3://{bucket_name}/landing/NYCWeather/NYCWeatherData.csv\"\n",
    "wr.s3.to_csv(df=hist_weather_df, path=landing_path, index =False)"
   ]
  },
  {
   "cell_type": "markdown",
   "id": "55937819",
   "metadata": {},
   "source": [
    "## Database creation & staging "
   ]
  },
  {
   "cell_type": "markdown",
   "id": "7580cd8e",
   "metadata": {},
   "source": [
    "### PostgreSQL database creation"
   ]
  },
  {
   "cell_type": "markdown",
   "id": "5ba94ff5",
   "metadata": {},
   "source": [
    "##### connect to the AWS RDS PostgreSQL database "
   ]
  },
  {
   "cell_type": "code",
   "execution_count": 15,
   "id": "4d043d74",
   "metadata": {},
   "outputs": [],
   "source": [
    "import psycopg2\n",
    "config = {}\n",
    "\n",
    "def create_connection():\n",
    "    conn = None\n",
    "    try:\n",
    "        conn = psycopg2.connect(dbname = config['dbname'],\n",
    "                            host = config['host'],\n",
    "                            port = config['port'],\n",
    "                            user = config['user'],\n",
    "                            password = config['password'])\n",
    "        return conn\n",
    "    except (Exception, psycopg2.DatabaseError) as error:\n",
    "        print(error)"
   ]
  },
  {
   "cell_type": "markdown",
   "id": "f6bb13d6",
   "metadata": {},
   "source": [
    "##### Define queries for Schemas"
   ]
  },
  {
   "cell_type": "code",
   "execution_count": 16,
   "id": "1eaa258b",
   "metadata": {},
   "outputs": [],
   "source": [
    "schema_create_query_staging = \"\"\"CREATE SCHEMA IF NOT EXISTS staging;\"\"\"\n",
    "schema_create_query_dw = \"\"\"CREATE SCHEMA IF NOT EXISTS dw;\"\"\"\n",
    "s3_extension_create_query = \"\"\"CREATE EXTENSION IF NOT EXISTS aws_s3 CASCADE;\"\"\""
   ]
  },
  {
   "cell_type": "markdown",
   "id": "330057ce",
   "metadata": {},
   "source": [
    "##### Define queries for staging tables"
   ]
  },
  {
   "cell_type": "code",
   "execution_count": 17,
   "id": "da23041d",
   "metadata": {},
   "outputs": [],
   "source": [
    "table_create_query_weather_staging = \"\"\"Drop Table if exists staging.weather_data; \n",
    "                CREATE TABLE IF NOT EXISTS staging.weather_data(\n",
    "                          record_id int GENERATED BY DEFAULT AS IDENTITY PRIMARY KEY\n",
    "                        , ingested_at timestamp DEFAULT CURRENT_TIMESTAMP\n",
    "                        \n",
    "                        , date_time varchar(2000)\n",
    "                        , totalSnow_cm varchar(2000)\n",
    "                        , FeelsLikeC varchar(2000)\n",
    "                        , humidity varchar(2000)\n",
    "                        , precipMM varchar(2000)\n",
    "                        , tempC varchar(2000)\n",
    "                        , visibility varchar(2000)\n",
    "                        , windspeedKmph varchar(2000)); \"\"\"\n",
    "\n",
    "table_create_query_bike_staging = \"\"\"Drop Table if exists staging.bike_data; \n",
    "                CREATE TABLE IF NOT EXISTS staging.bike_data(\n",
    "                          record_id int GENERATED BY DEFAULT AS IDENTITY PRIMARY KEY\n",
    "                        , ingested_at timestamp DEFAULT CURRENT_TIMESTAMP\n",
    "                        \n",
    "                        , tripduration varchar(2000)\n",
    "                        , starttime varchar(2000)\n",
    "                        , stoptime varchar(2000)\n",
    "                        , start_station_id varchar(2000)\n",
    "                        , start_station_name varchar(2000)\n",
    "                        , start_station_latitude varchar(2000)\n",
    "                        , start_station_longitude varchar(2000)\n",
    "                        , end_station_id varchar(2000)\n",
    "                        , end_station_name varchar(2000)\n",
    "                        , end_station_latitude varchar(2000)\n",
    "                        , end_station_longitude varchar(2000)\n",
    "                        , trip_distance_meters varchar(2000)\n",
    "                        ); \"\"\"\n",
    "\n",
    "table_create_query_taxi_staging = \"\"\"Drop Table if exists staging.taxi_data; \n",
    "                CREATE TABLE IF NOT EXISTS staging.taxi_data(\n",
    "                          record_id int GENERATED BY DEFAULT AS IDENTITY PRIMARY KEY\n",
    "                        , ingested_at timestamp DEFAULT CURRENT_TIMESTAMP\n",
    "                        , pickup_datetime varchar(2000)\n",
    "                        , dropoff_datetime varchar(2000)\n",
    "                        , trip_distance varchar(2000)\n",
    "                        , total_amount varchar(2000)\n",
    "                        ); \"\"\""
   ]
  },
  {
   "cell_type": "markdown",
   "id": "c8da76ad",
   "metadata": {},
   "source": [
    "##### Define queries for the Data warehouse dimension tables"
   ]
  },
  {
   "cell_type": "code",
   "execution_count": 18,
   "id": "ef271507",
   "metadata": {},
   "outputs": [],
   "source": [
    "\n",
    "table_create_query_dw_dim_date = \"\"\"Drop Table if exists dw.dim_date; \n",
    "                CREATE TABLE IF NOT EXISTS dw.dim_date(\n",
    "                          id date PRIMARY KEY\n",
    "                        , day_of_week int\n",
    "                        , day_of_month int\n",
    "                        , week int\n",
    "                        , month int\n",
    "                        , quarter int\n",
    "                        , year int\n",
    "                        ); \"\"\"\n",
    "\n",
    "table_create_query_dw_dim_hour = \"\"\"Drop Table if exists dw.dim_hour; \n",
    "                CREATE TABLE IF NOT EXISTS dw.dim_hour(\n",
    "                          id int PRIMARY KEY\n",
    "                        ); \"\"\"\n",
    "\n",
    "table_create_query_dw_dim_bike_station = \"\"\"Drop Table if exists dw.dim_bike_station; \n",
    "                    CREATE TABLE IF NOT EXISTS dw.dim_bike_station(\n",
    "                          id int\n",
    "                        , record_start_date Date NOT NULL\n",
    "                        , record_end_date Date NULL\n",
    "                        , name varchar(2000)\n",
    "                        , longitude numeric(9, 6)\n",
    "                        , latitude numeric(9, 6)\n",
    "                        , PRIMARY KEY(record_start_date, id)\n",
    "                        ); \"\"\"\n"
   ]
  },
  {
   "cell_type": "markdown",
   "id": "89341ac3",
   "metadata": {},
   "source": [
    "##### Define queries for the data warehouse fact tables"
   ]
  },
  {
   "cell_type": "code",
   "execution_count": 19,
   "id": "6d4e96dd",
   "metadata": {},
   "outputs": [],
   "source": [
    "table_create_query_weather_dw_facts = \"\"\"Drop Table if exists dw.weather_facts; \n",
    "                    CREATE TABLE IF NOT EXISTS dw.weather_facts(\n",
    "                          id int GENERATED BY DEFAULT AS IDENTITY PRIMARY KEY\n",
    "                        -- dims\n",
    "                        , date_id date\n",
    "                        , hour_id int\n",
    "                        -- facts\n",
    "                        , totalSnow_cm numeric(18,4)\n",
    "                        , FeelsLikeC numeric(18,4)\n",
    "                        , humidity numeric(18,4)\n",
    "                        , precipMM numeric(18,4)\n",
    "                        , tempC numeric(18,4)\n",
    "                        , visibility numeric(18,4)\n",
    "                        , windspeedKmph numeric(18,4)\n",
    "                        ); \"\"\"\n",
    "\n",
    "table_create_query_bike_dw_facts = \"\"\"Drop Table if exists dw.bike_facts; \n",
    "                    CREATE TABLE IF NOT EXISTS dw.bike_facts(\n",
    "                          id int GENERATED BY DEFAULT AS IDENTITY PRIMARY KEY\n",
    "                        -- dims\n",
    "                        , date_id date\n",
    "                        , hour_id int\n",
    "                        , start_station_id int\n",
    "                        , end_station_id int\n",
    "                        -- facts\n",
    "                        , trip_distance numeric(18, 4)\n",
    "                        , trip_duration numeric(18, 4)\n",
    "                        , trip_quantity numeric(18, 4)\n",
    "                        ); \"\"\"\n",
    "\n",
    "table_create_query_taxi_dw_facts = \"\"\"Drop Table if exists dw.taxi_facts; \n",
    "                    CREATE TABLE IF NOT EXISTS dw.taxi_facts(\n",
    "                          id int GENERATED BY DEFAULT AS IDENTITY PRIMARY KEY\n",
    "                        -- dims\n",
    "                        , date_id date\n",
    "                        , hour_id int\n",
    "                        -- facts\n",
    "                        , trip_distance numeric(18, 4)\n",
    "                        , trip_duration numeric(18, 4)\n",
    "                        , trip_quantity numeric(18, 4)\n",
    "                        , trip_cost_total numeric(18, 4)\n",
    "                        ); \"\"\"\n"
   ]
  },
  {
   "cell_type": "markdown",
   "id": "be187523",
   "metadata": {},
   "source": [
    "##### Create the database objects on RDS PostgreSQL from the predefined queries"
   ]
  },
  {
   "cell_type": "code",
   "execution_count": 20,
   "id": "302ddf63",
   "metadata": {},
   "outputs": [],
   "source": [
    "def create_db_dw_objects():\n",
    "    try:\n",
    "        conn = create_connection()\n",
    "        cur = conn.cursor()\n",
    "        cur.execute(schema_create_query_staging)\n",
    "        cur.execute(schema_create_query_dw)\n",
    "        cur.execute(s3_extension_create_query)\n",
    "        \n",
    "        cur.execute(table_create_query_weather_staging)\n",
    "        cur.execute(table_create_query_bike_staging)\n",
    "        cur.execute(table_create_query_taxi_staging)\n",
    "        \n",
    "        cur.execute(table_create_query_dw_dim_date)\n",
    "        cur.execute(table_create_query_dw_dim_hour)\n",
    "        cur.execute(table_create_query_dw_dim_bike_station)\n",
    "        \n",
    "        cur.execute(table_create_query_weather_dw_facts)\n",
    "        cur.execute(table_create_query_bike_dw_facts)\n",
    "        cur.execute(table_create_query_taxi_dw_facts)\n",
    "        \n",
    "        conn.commit()\n",
    "        cur.close()\n",
    "    except (Exception, psycopg2.DatabaseError) as error:\n",
    "        print(error)\n",
    "    finally:\n",
    "        if conn is not None:\n",
    "            conn.close()\n",
    "            \n",
    "create_db_dw_objects()           "
   ]
  },
  {
   "cell_type": "markdown",
   "id": "d7a2b347",
   "metadata": {},
   "source": [
    "### Data Ingestion"
   ]
  },
  {
   "cell_type": "markdown",
   "id": "9b7b373c",
   "metadata": {},
   "source": [
    "##### queries for ingesting data from landing zone to staging area"
   ]
  },
  {
   "cell_type": "code",
   "execution_count": 21,
   "id": "d26a12f1",
   "metadata": {},
   "outputs": [],
   "source": [
    "aws_s3_data_import_query_weather = \"\"\"\n",
    "SELECT aws_s3.table_import_from_s3(\n",
    "       'staging.weather_data(date_time \n",
    "            , totalSnow_cm \n",
    "            , FeelsLikeC \n",
    "            , humidity\n",
    "            , precipMM \n",
    "            , tempC \n",
    "            , visibility \n",
    "            , windspeedKmph )', '', '(format csv)', \n",
    "       aws_commons.create_s3_uri('data-landing-vrf', 'landing/NYCWeather/NYCWeatherData.csv','eu-north-1'), \n",
    "    aws_commons.create_aws_credentials('', '', '')\n",
    ");\"\"\";\n",
    "\n",
    "aws_s3_data_import_query_bike = \"\"\"\n",
    "SELECT aws_s3.table_import_from_s3(\n",
    "       'staging.bike_data(\n",
    "             tripduration\n",
    "           , starttime\n",
    "           , stoptime\n",
    "           , start_station_id\n",
    "           , start_station_name\n",
    "           , start_station_latitude\n",
    "           , start_station_longitude\n",
    "           , end_station_id\n",
    "           , end_station_name\n",
    "           , end_station_latitude\n",
    "           , end_station_longitude\n",
    "           , trip_distance_meters)', '', '(format csv)', \n",
    "       aws_commons.create_s3_uri('data-landing-vrf', 'landing/NYCBikeTrips/tripdata.csv','eu-north-1'), \n",
    "    aws_commons.create_aws_credentials('', '', '')\n",
    ");\"\"\";\n",
    "\n",
    "aws_s3_data_import_query_taxi = \"\"\"\n",
    "SELECT aws_s3.table_import_from_s3(\n",
    "       'staging.taxi_data(\n",
    "             pickup_datetime\n",
    "           , dropoff_datetime\n",
    "           , trip_distance\n",
    "           , total_amount\n",
    "       )', '', '(format csv)', \n",
    "       aws_commons.create_s3_uri('data-landing-vrf', 'landing/NYCTaxi/NYCTaxiData.csv','eu-north-1'), \n",
    "    aws_commons.create_aws_credentials('', '', '')\n",
    ");\"\"\";"
   ]
  },
  {
   "cell_type": "markdown",
   "id": "687924b9",
   "metadata": {},
   "source": [
    "##### Ingest the data to staging using the queries defined above"
   ]
  },
  {
   "cell_type": "code",
   "execution_count": 22,
   "id": "7475d661",
   "metadata": {},
   "outputs": [
    {
     "name": "stdout",
     "output_type": "stream",
     "text": [
      "Wall time: 1min 16s\n"
     ]
    }
   ],
   "source": [
    "%%time\n",
    "def ingest_from_landing_to_staging():\n",
    "    try:\n",
    "        conn = create_connection()\n",
    "        cur = conn.cursor()\n",
    "        \n",
    "        cur.execute(aws_s3_data_import_query_weather)\n",
    "        cur.execute(aws_s3_data_import_query_bike)\n",
    "        cur.execute(aws_s3_data_import_query_taxi)\n",
    "        \n",
    "        conn.commit()\n",
    "        cur.close()\n",
    "    except (Exception, psycopg2.DatabaseError) as error:\n",
    "        print(error)\n",
    "    finally:\n",
    "        if conn is not None:\n",
    "            conn.close()\n",
    "\n",
    "ingest_from_landing_to_staging()           "
   ]
  },
  {
   "cell_type": "markdown",
   "id": "be769de1",
   "metadata": {},
   "source": [
    "## Data quality checks"
   ]
  },
  {
   "cell_type": "markdown",
   "id": "f1eeda17",
   "metadata": {},
   "source": [
    "#### bike trips data"
   ]
  },
  {
   "cell_type": "code",
   "execution_count": 23,
   "id": "96f3c05f",
   "metadata": {},
   "outputs": [
    {
     "data": {
      "text/html": [
       "<div>\n",
       "<style scoped>\n",
       "    .dataframe tbody tr th:only-of-type {\n",
       "        vertical-align: middle;\n",
       "    }\n",
       "\n",
       "    .dataframe tbody tr th {\n",
       "        vertical-align: top;\n",
       "    }\n",
       "\n",
       "    .dataframe thead th {\n",
       "        text-align: right;\n",
       "    }\n",
       "</style>\n",
       "<table border=\"1\" class=\"dataframe\">\n",
       "  <thead>\n",
       "    <tr style=\"text-align: right;\">\n",
       "      <th></th>\n",
       "      <th>record_id</th>\n",
       "      <th>ingested_at</th>\n",
       "      <th>tripduration</th>\n",
       "      <th>starttime</th>\n",
       "      <th>stoptime</th>\n",
       "      <th>start_station_id</th>\n",
       "      <th>start_station_name</th>\n",
       "      <th>start_station_latitude</th>\n",
       "      <th>start_station_longitude</th>\n",
       "      <th>end_station_id</th>\n",
       "      <th>end_station_name</th>\n",
       "      <th>end_station_latitude</th>\n",
       "      <th>end_station_longitude</th>\n",
       "      <th>trip_distance_meters</th>\n",
       "    </tr>\n",
       "  </thead>\n",
       "  <tbody>\n",
       "    <tr>\n",
       "      <th>0</th>\n",
       "      <td>1</td>\n",
       "      <td>2021-08-29 23:43:23.579027</td>\n",
       "      <td>tripduration</td>\n",
       "      <td>starttime</td>\n",
       "      <td>stoptime</td>\n",
       "      <td>start_station_id</td>\n",
       "      <td>start_station_name</td>\n",
       "      <td>start_station_latitude</td>\n",
       "      <td>start_station_longitude</td>\n",
       "      <td>end_station_id</td>\n",
       "      <td>end_station_name</td>\n",
       "      <td>end_station_latitude</td>\n",
       "      <td>end_station_longitude</td>\n",
       "      <td>trip_distance_meters</td>\n",
       "    </tr>\n",
       "    <tr>\n",
       "      <th>1</th>\n",
       "      <td>2</td>\n",
       "      <td>2021-08-29 23:43:23.579027</td>\n",
       "      <td>772</td>\n",
       "      <td>2018-01-29 09:47:06.722</td>\n",
       "      <td>2018-01-29 09:59:59.591</td>\n",
       "      <td>443</td>\n",
       "      <td>Bedford Ave &amp; S 9 St</td>\n",
       "      <td>40.70853074</td>\n",
       "      <td>-73.96408963</td>\n",
       "      <td>3068</td>\n",
       "      <td>Humboldt St &amp; Varet St</td>\n",
       "      <td>40.7031724</td>\n",
       "      <td>-73.940636</td>\n",
       "      <td>2064.8193672398293</td>\n",
       "    </tr>\n",
       "    <tr>\n",
       "      <th>2</th>\n",
       "      <td>3</td>\n",
       "      <td>2021-08-29 23:43:23.579027</td>\n",
       "      <td>209</td>\n",
       "      <td>2018-04-18 14:50:19.547</td>\n",
       "      <td>2018-04-18 14:53:49.506</td>\n",
       "      <td>3244</td>\n",
       "      <td>University Pl &amp; E 8 St</td>\n",
       "      <td>40.73143724085228</td>\n",
       "      <td>-73.99490341544151</td>\n",
       "      <td>285</td>\n",
       "      <td>Broadway &amp; E 14 St</td>\n",
       "      <td>40.73454567</td>\n",
       "      <td>-73.99074142</td>\n",
       "      <td>492.39110310003167</td>\n",
       "    </tr>\n",
       "  </tbody>\n",
       "</table>\n",
       "</div>"
      ],
      "text/plain": [
       "   record_id                ingested_at  tripduration  \\\n",
       "0          1 2021-08-29 23:43:23.579027  tripduration   \n",
       "1          2 2021-08-29 23:43:23.579027           772   \n",
       "2          3 2021-08-29 23:43:23.579027           209   \n",
       "\n",
       "                 starttime                 stoptime  start_station_id  \\\n",
       "0                starttime                 stoptime  start_station_id   \n",
       "1  2018-01-29 09:47:06.722  2018-01-29 09:59:59.591               443   \n",
       "2  2018-04-18 14:50:19.547  2018-04-18 14:53:49.506              3244   \n",
       "\n",
       "       start_station_name  start_station_latitude  start_station_longitude  \\\n",
       "0      start_station_name  start_station_latitude  start_station_longitude   \n",
       "1    Bedford Ave & S 9 St             40.70853074             -73.96408963   \n",
       "2  University Pl & E 8 St       40.73143724085228       -73.99490341544151   \n",
       "\n",
       "   end_station_id        end_station_name  end_station_latitude  \\\n",
       "0  end_station_id        end_station_name  end_station_latitude   \n",
       "1            3068  Humboldt St & Varet St            40.7031724   \n",
       "2             285      Broadway & E 14 St           40.73454567   \n",
       "\n",
       "   end_station_longitude  trip_distance_meters  \n",
       "0  end_station_longitude  trip_distance_meters  \n",
       "1             -73.940636    2064.8193672398293  \n",
       "2           -73.99074142    492.39110310003167  "
      ]
     },
     "execution_count": 23,
     "metadata": {},
     "output_type": "execute_result"
    }
   ],
   "source": [
    "connect = create_connection()\n",
    "query = pd.read_sql_query(\"SELECT * FROM staging.bike_data limit 3\",con=connect)\n",
    "query.head()"
   ]
  },
  {
   "cell_type": "markdown",
   "id": "75734bb7",
   "metadata": {},
   "source": [
    "##### Check the trip duration corectness"
   ]
  },
  {
   "cell_type": "code",
   "execution_count": 26,
   "id": "7ceccef4",
   "metadata": {},
   "outputs": [
    {
     "data": {
      "text/html": [
       "<div>\n",
       "<style scoped>\n",
       "    .dataframe tbody tr th:only-of-type {\n",
       "        vertical-align: middle;\n",
       "    }\n",
       "\n",
       "    .dataframe tbody tr th {\n",
       "        vertical-align: top;\n",
       "    }\n",
       "\n",
       "    .dataframe thead th {\n",
       "        text-align: right;\n",
       "    }\n",
       "</style>\n",
       "<table border=\"1\" class=\"dataframe\">\n",
       "  <thead>\n",
       "    <tr style=\"text-align: right;\">\n",
       "      <th></th>\n",
       "      <th>duration_range</th>\n",
       "      <th>rows</th>\n",
       "    </tr>\n",
       "  </thead>\n",
       "  <tbody>\n",
       "    <tr>\n",
       "      <th>0</th>\n",
       "      <td>10 min - 1 hour</td>\n",
       "      <td>2681133</td>\n",
       "    </tr>\n",
       "    <tr>\n",
       "      <th>1</th>\n",
       "      <td>&lt; 10 minute</td>\n",
       "      <td>2944745</td>\n",
       "    </tr>\n",
       "    <tr>\n",
       "      <th>2</th>\n",
       "      <td>1 - 3 hour</td>\n",
       "      <td>35844</td>\n",
       "    </tr>\n",
       "    <tr>\n",
       "      <th>3</th>\n",
       "      <td>&gt; 3 hour</td>\n",
       "      <td>9311</td>\n",
       "    </tr>\n",
       "  </tbody>\n",
       "</table>\n",
       "</div>"
      ],
      "text/plain": [
       "    duration_range     rows\n",
       "0  10 min - 1 hour  2681133\n",
       "1      < 10 minute  2944745\n",
       "2       1 - 3 hour    35844\n",
       "3         > 3 hour     9311"
      ]
     },
     "execution_count": 26,
     "metadata": {},
     "output_type": "execute_result"
    }
   ],
   "source": [
    "\n",
    "query = pd.read_sql_query(\"\"\"\n",
    "    SELECT \n",
    "         Case \n",
    "            When cast(tripduration as int) < 0 Then 'Negative'\n",
    "            When cast(tripduration as int) < 60*10 Then '< 10 minute'\n",
    "            When cast(tripduration as int) < 60*60 Then '10 min - 1 hour'\n",
    "            When cast(tripduration as int) < 60*60*3 Then '1 - 3 hour'\n",
    "            When cast(tripduration as int) >= 60*60*3 Then '> 3 hour'\n",
    "            Else 'Other'\n",
    "        End As duration_range\n",
    "        , count(*) As Rows\n",
    "    FROM staging.bike_data \n",
    "    Where tripduration <> 'tripduration' \n",
    "    Group By\n",
    "        Case \n",
    "            When cast(tripduration as int) < 0 Then 'Negative'\n",
    "            When cast(tripduration as int) < 60*10 Then '< 10 minute'\n",
    "            When cast(tripduration as int) < 60*60 Then '10 min - 1 hour'\n",
    "            When cast(tripduration as int) < 60*60*3 Then '1 - 3 hour'\n",
    "            When cast(tripduration as int) >= 60*60*3 Then '> 3 hour'\n",
    "            Else 'Other'\n",
    "        End\n",
    "    ;\"\"\"\n",
    "    ,con=connect)\n",
    "\n",
    "query.head()"
   ]
  },
  {
   "cell_type": "markdown",
   "id": "73da8221",
   "metadata": {},
   "source": [
    "##### Check trip distances"
   ]
  },
  {
   "cell_type": "code",
   "execution_count": 27,
   "id": "0d1236b4",
   "metadata": {},
   "outputs": [
    {
     "data": {
      "text/html": [
       "<div>\n",
       "<style scoped>\n",
       "    .dataframe tbody tr th:only-of-type {\n",
       "        vertical-align: middle;\n",
       "    }\n",
       "\n",
       "    .dataframe tbody tr th {\n",
       "        vertical-align: top;\n",
       "    }\n",
       "\n",
       "    .dataframe thead th {\n",
       "        text-align: right;\n",
       "    }\n",
       "</style>\n",
       "<table border=\"1\" class=\"dataframe\">\n",
       "  <thead>\n",
       "    <tr style=\"text-align: right;\">\n",
       "      <th></th>\n",
       "      <th>distance_range</th>\n",
       "      <th>rows</th>\n",
       "    </tr>\n",
       "  </thead>\n",
       "  <tbody>\n",
       "    <tr>\n",
       "      <th>0</th>\n",
       "      <td>10-30 KM</td>\n",
       "      <td>3831</td>\n",
       "    </tr>\n",
       "    <tr>\n",
       "      <th>1</th>\n",
       "      <td>&lt; 10 KM</td>\n",
       "      <td>5667202</td>\n",
       "    </tr>\n",
       "  </tbody>\n",
       "</table>\n",
       "</div>"
      ],
      "text/plain": [
       "  distance_range     rows\n",
       "0       10-30 KM     3831\n",
       "1        < 10 KM  5667202"
      ]
     },
     "execution_count": 27,
     "metadata": {},
     "output_type": "execute_result"
    }
   ],
   "source": [
    "query = pd.read_sql_query(\"\"\"\n",
    "    SELECT \n",
    "        Case \n",
    "            when cast(trip_distance_meters as numeric(20, 4)) < 0 Then 'Negative'\n",
    "            when cast(trip_distance_meters as numeric(20, 4)) < 1000 * 10 Then '< 10 KM'\n",
    "            when cast(trip_distance_meters as numeric(20, 4)) < 1000 * 30 Then '10-30 KM'\n",
    "            when cast(trip_distance_meters as numeric(20, 4)) >= 1000 * 30 Then '> 30 KM'\n",
    "            Else 'Other'\n",
    "        End As distance_range\n",
    "        , Count(*) AS Rows\n",
    "    FROM staging.bike_data \n",
    "    Where tripduration <> 'tripduration' \n",
    "    Group By\n",
    "        Case \n",
    "            when cast(trip_distance_meters as numeric(20, 4)) < 0 Then 'Negative'\n",
    "            when cast(trip_distance_meters as numeric(20, 4)) < 1000 * 10 Then '< 10 KM'\n",
    "            when cast(trip_distance_meters as numeric(20, 4)) < 1000 * 30 Then '10-30 KM'\n",
    "            when cast(trip_distance_meters as numeric(20, 4)) >= 1000 * 30 Then '> 30 KM'\n",
    "            Else 'Other'\n",
    "        End\n",
    "        \n",
    "    ;\"\"\"\n",
    "    ,con=connect)\n",
    "query.head()"
   ]
  },
  {
   "cell_type": "markdown",
   "id": "e13a25fa",
   "metadata": {},
   "source": [
    "#### taxi trips data"
   ]
  },
  {
   "cell_type": "code",
   "execution_count": 28,
   "id": "d902b11e",
   "metadata": {},
   "outputs": [
    {
     "data": {
      "text/html": [
       "<div>\n",
       "<style scoped>\n",
       "    .dataframe tbody tr th:only-of-type {\n",
       "        vertical-align: middle;\n",
       "    }\n",
       "\n",
       "    .dataframe tbody tr th {\n",
       "        vertical-align: top;\n",
       "    }\n",
       "\n",
       "    .dataframe thead th {\n",
       "        text-align: right;\n",
       "    }\n",
       "</style>\n",
       "<table border=\"1\" class=\"dataframe\">\n",
       "  <thead>\n",
       "    <tr style=\"text-align: right;\">\n",
       "      <th></th>\n",
       "      <th>record_id</th>\n",
       "      <th>ingested_at</th>\n",
       "      <th>pickup_datetime</th>\n",
       "      <th>dropoff_datetime</th>\n",
       "      <th>trip_distance</th>\n",
       "      <th>total_amount</th>\n",
       "    </tr>\n",
       "  </thead>\n",
       "  <tbody>\n",
       "    <tr>\n",
       "      <th>0</th>\n",
       "      <td>1</td>\n",
       "      <td>2021-08-29 23:43:23.579027</td>\n",
       "      <td>pickup_datetime</td>\n",
       "      <td>dropoff_datetime</td>\n",
       "      <td>trip_distance</td>\n",
       "      <td>total_amount</td>\n",
       "    </tr>\n",
       "    <tr>\n",
       "      <th>1</th>\n",
       "      <td>2</td>\n",
       "      <td>2021-08-29 23:43:23.579027</td>\n",
       "      <td>2018-01-01 00:26:48</td>\n",
       "      <td>2018-01-01 00:52:56</td>\n",
       "      <td>7.530000000</td>\n",
       "      <td>30.960000000</td>\n",
       "    </tr>\n",
       "    <tr>\n",
       "      <th>2</th>\n",
       "      <td>3</td>\n",
       "      <td>2021-08-29 23:43:23.579027</td>\n",
       "      <td>2018-01-01 00:27:55</td>\n",
       "      <td>2018-01-01 00:48:47</td>\n",
       "      <td>10.970000000</td>\n",
       "      <td>31.800000000</td>\n",
       "    </tr>\n",
       "  </tbody>\n",
       "</table>\n",
       "</div>"
      ],
      "text/plain": [
       "   record_id                ingested_at      pickup_datetime  \\\n",
       "0          1 2021-08-29 23:43:23.579027      pickup_datetime   \n",
       "1          2 2021-08-29 23:43:23.579027  2018-01-01 00:26:48   \n",
       "2          3 2021-08-29 23:43:23.579027  2018-01-01 00:27:55   \n",
       "\n",
       "      dropoff_datetime  trip_distance  total_amount  \n",
       "0     dropoff_datetime  trip_distance  total_amount  \n",
       "1  2018-01-01 00:52:56    7.530000000  30.960000000  \n",
       "2  2018-01-01 00:48:47   10.970000000  31.800000000  "
      ]
     },
     "execution_count": 28,
     "metadata": {},
     "output_type": "execute_result"
    }
   ],
   "source": [
    "query = pd.read_sql_query(\"SELECT * FROM staging.taxi_data limit 3\",con=connect)\n",
    "query.head()"
   ]
  },
  {
   "cell_type": "markdown",
   "id": "114c58d1",
   "metadata": {},
   "source": [
    "##### Check the trip distance"
   ]
  },
  {
   "cell_type": "code",
   "execution_count": 29,
   "id": "ad49118a",
   "metadata": {},
   "outputs": [
    {
     "data": {
      "text/html": [
       "<div>\n",
       "<style scoped>\n",
       "    .dataframe tbody tr th:only-of-type {\n",
       "        vertical-align: middle;\n",
       "    }\n",
       "\n",
       "    .dataframe tbody tr th {\n",
       "        vertical-align: top;\n",
       "    }\n",
       "\n",
       "    .dataframe thead th {\n",
       "        text-align: right;\n",
       "    }\n",
       "</style>\n",
       "<table border=\"1\" class=\"dataframe\">\n",
       "  <thead>\n",
       "    <tr style=\"text-align: right;\">\n",
       "      <th></th>\n",
       "      <th>distance_range</th>\n",
       "      <th>rows</th>\n",
       "    </tr>\n",
       "  </thead>\n",
       "  <tbody>\n",
       "    <tr>\n",
       "      <th>0</th>\n",
       "      <td>&lt; 10 Mi</td>\n",
       "      <td>8807303</td>\n",
       "    </tr>\n",
       "  </tbody>\n",
       "</table>\n",
       "</div>"
      ],
      "text/plain": [
       "  distance_range     rows\n",
       "0        < 10 Mi  8807303"
      ]
     },
     "execution_count": 29,
     "metadata": {},
     "output_type": "execute_result"
    }
   ],
   "source": [
    "query = pd.read_sql_query(\"\"\"\n",
    "    SELECT \n",
    "        Case \n",
    "            when cast(trip_distance as numeric(20, 4)) < 0 Then 'Negative'\n",
    "            when cast(trip_distance as numeric(20, 4)) < 1000 * 10 Then '< 10 Mi'\n",
    "            when cast(trip_distance as numeric(20, 4)) < 1000 * 30 Then '10-30 Mi'\n",
    "            when cast(trip_distance as numeric(20, 4)) >= 1000 * 30 Then '> 30 Mi'\n",
    "            Else 'Other'\n",
    "        End As distance_range\n",
    "    , Count(*) As Rows\n",
    "    FROM staging.taxi_data \n",
    "    Where pickup_datetime <> 'pickup_datetime' \n",
    "    Group By\n",
    "        Case \n",
    "            when cast(trip_distance as numeric(20, 4)) < 0 Then 'Negative'\n",
    "            when cast(trip_distance as numeric(20, 4)) < 1000 * 10 Then '< 10 Mi'\n",
    "            when cast(trip_distance as numeric(20, 4)) < 1000 * 30 Then '10-30 Mi'\n",
    "            when cast(trip_distance as numeric(20, 4)) >= 1000 * 30 Then '> 30 Mi'\n",
    "            Else 'Other'\n",
    "        End\n",
    "        ;\"\"\"\n",
    "    ,con=connect)\n",
    "query.head()"
   ]
  },
  {
   "cell_type": "markdown",
   "id": "de369a5e",
   "metadata": {},
   "source": [
    "##### check total amount. Here we will need to filter rows that are negative."
   ]
  },
  {
   "cell_type": "code",
   "execution_count": 30,
   "id": "76536dca",
   "metadata": {},
   "outputs": [
    {
     "data": {
      "text/html": [
       "<div>\n",
       "<style scoped>\n",
       "    .dataframe tbody tr th:only-of-type {\n",
       "        vertical-align: middle;\n",
       "    }\n",
       "\n",
       "    .dataframe tbody tr th {\n",
       "        vertical-align: top;\n",
       "    }\n",
       "\n",
       "    .dataframe thead th {\n",
       "        text-align: right;\n",
       "    }\n",
       "</style>\n",
       "<table border=\"1\" class=\"dataframe\">\n",
       "  <thead>\n",
       "    <tr style=\"text-align: right;\">\n",
       "      <th></th>\n",
       "      <th>total_amt_group</th>\n",
       "      <th>count_of_rows</th>\n",
       "    </tr>\n",
       "  </thead>\n",
       "  <tbody>\n",
       "    <tr>\n",
       "      <th>0</th>\n",
       "      <td>0 - 200</td>\n",
       "      <td>8769480</td>\n",
       "    </tr>\n",
       "    <tr>\n",
       "      <th>1</th>\n",
       "      <td>&gt; 500</td>\n",
       "      <td>62</td>\n",
       "    </tr>\n",
       "    <tr>\n",
       "      <th>2</th>\n",
       "      <td>Negative amt</td>\n",
       "      <td>23061</td>\n",
       "    </tr>\n",
       "    <tr>\n",
       "      <th>3</th>\n",
       "      <td>zero amt</td>\n",
       "      <td>14700</td>\n",
       "    </tr>\n",
       "  </tbody>\n",
       "</table>\n",
       "</div>"
      ],
      "text/plain": [
       "  total_amt_group  count_of_rows\n",
       "0         0 - 200        8769480\n",
       "1           > 500             62\n",
       "2    Negative amt          23061\n",
       "3        zero amt          14700"
      ]
     },
     "execution_count": 30,
     "metadata": {},
     "output_type": "execute_result"
    }
   ],
   "source": [
    "\n",
    "query = pd.read_sql_query(\"\"\"\n",
    "    SELECT \n",
    "        Case \n",
    "         When cast(total_amount as numeric(20, 4)) < 0 Then 'Negative amt'\n",
    "         When cast(total_amount as numeric(20, 4)) = 0 Then 'zero amt'\n",
    "         When cast(total_amount as numeric(20, 4)) > 500 Then '> 500'\n",
    "         When cast(total_amount as numeric(20, 4)) > 0 Then '0 - 200'\n",
    "         When cast(total_amount as numeric(20, 4)) is null Then 'Null'\n",
    "        End As total_amt_group\n",
    "        , count(*) As count_of_rows\n",
    "    FROM staging.taxi_data \n",
    "    Where pickup_datetime <> 'pickup_datetime' \n",
    "    Group By\n",
    "     Case \n",
    "         When cast(total_amount as numeric(20, 4)) < 0 Then 'Negative amt'\n",
    "         When cast(total_amount as numeric(20, 4)) = 0 Then 'zero amt'\n",
    "         When cast(total_amount as numeric(20, 4)) > 500 Then '> 500'\n",
    "         When cast(total_amount as numeric(20, 4)) > 0 Then '0 - 200'\n",
    "         When cast(total_amount as numeric(20, 4)) is null Then 'Null'\n",
    "        End\n",
    "     \n",
    "    Limit 10;\"\"\"\n",
    "    ,con=connect)\n",
    "query.head()"
   ]
  },
  {
   "cell_type": "markdown",
   "id": "d3a2e03a",
   "metadata": {},
   "source": [
    "#### weather data"
   ]
  },
  {
   "cell_type": "code",
   "execution_count": 31,
   "id": "35c5f562",
   "metadata": {},
   "outputs": [
    {
     "data": {
      "text/html": [
       "<div>\n",
       "<style scoped>\n",
       "    .dataframe tbody tr th:only-of-type {\n",
       "        vertical-align: middle;\n",
       "    }\n",
       "\n",
       "    .dataframe tbody tr th {\n",
       "        vertical-align: top;\n",
       "    }\n",
       "\n",
       "    .dataframe thead th {\n",
       "        text-align: right;\n",
       "    }\n",
       "</style>\n",
       "<table border=\"1\" class=\"dataframe\">\n",
       "  <thead>\n",
       "    <tr style=\"text-align: right;\">\n",
       "      <th></th>\n",
       "      <th>record_id</th>\n",
       "      <th>ingested_at</th>\n",
       "      <th>date_time</th>\n",
       "      <th>totalsnow_cm</th>\n",
       "      <th>feelslikec</th>\n",
       "      <th>humidity</th>\n",
       "      <th>precipmm</th>\n",
       "      <th>tempc</th>\n",
       "      <th>visibility</th>\n",
       "      <th>windspeedkmph</th>\n",
       "    </tr>\n",
       "  </thead>\n",
       "  <tbody>\n",
       "    <tr>\n",
       "      <th>0</th>\n",
       "      <td>1</td>\n",
       "      <td>2021-08-29 23:43:23.579027</td>\n",
       "      <td>date_time</td>\n",
       "      <td>totalSnow_cm</td>\n",
       "      <td>FeelsLikeC</td>\n",
       "      <td>humidity</td>\n",
       "      <td>precipMM</td>\n",
       "      <td>tempC</td>\n",
       "      <td>visibility</td>\n",
       "      <td>windspeedKmph</td>\n",
       "    </tr>\n",
       "    <tr>\n",
       "      <th>1</th>\n",
       "      <td>2</td>\n",
       "      <td>2021-08-29 23:43:23.579027</td>\n",
       "      <td>2018-01-01 00:00:00</td>\n",
       "      <td>0.0</td>\n",
       "      <td>-21</td>\n",
       "      <td>65</td>\n",
       "      <td>0.0</td>\n",
       "      <td>-12</td>\n",
       "      <td>10</td>\n",
       "      <td>23</td>\n",
       "    </tr>\n",
       "    <tr>\n",
       "      <th>2</th>\n",
       "      <td>3</td>\n",
       "      <td>2021-08-29 23:43:23.579027</td>\n",
       "      <td>2018-01-01 01:00:00</td>\n",
       "      <td>0.0</td>\n",
       "      <td>-21</td>\n",
       "      <td>64</td>\n",
       "      <td>0.0</td>\n",
       "      <td>-12</td>\n",
       "      <td>10</td>\n",
       "      <td>23</td>\n",
       "    </tr>\n",
       "  </tbody>\n",
       "</table>\n",
       "</div>"
      ],
      "text/plain": [
       "   record_id                ingested_at            date_time  totalsnow_cm  \\\n",
       "0          1 2021-08-29 23:43:23.579027            date_time  totalSnow_cm   \n",
       "1          2 2021-08-29 23:43:23.579027  2018-01-01 00:00:00           0.0   \n",
       "2          3 2021-08-29 23:43:23.579027  2018-01-01 01:00:00           0.0   \n",
       "\n",
       "   feelslikec  humidity  precipmm  tempc  visibility  windspeedkmph  \n",
       "0  FeelsLikeC  humidity  precipMM  tempC  visibility  windspeedKmph  \n",
       "1         -21        65       0.0    -12          10             23  \n",
       "2         -21        64       0.0    -12          10             23  "
      ]
     },
     "execution_count": 31,
     "metadata": {},
     "output_type": "execute_result"
    }
   ],
   "source": [
    "query = pd.read_sql_query(\"SELECT * FROM staging.weather_data limit 3\",con=connect)\n",
    "query.head()"
   ]
  },
  {
   "cell_type": "markdown",
   "id": "e9c01ece",
   "metadata": {},
   "source": [
    "##### Show the distribution histogram of all the available weather measures. All seems fine."
   ]
  },
  {
   "cell_type": "code",
   "execution_count": 32,
   "id": "3360f7e1",
   "metadata": {
    "scrolled": false
   },
   "outputs": [
    {
     "data": {
      "image/png": "[encoded data removed]",
      "text/plain": [
       "<Figure size 1152x720 with 9 Axes>"
      ]
     },
     "metadata": {
      "needs_background": "light"
     },
     "output_type": "display_data"
    }
   ],
   "source": [
    "\n",
    "query = pd.read_sql_query(\"\"\"\n",
    "    SELECT cast(windspeedkmph as numeric (18, 2)) as windspeedkmph\n",
    "    , cast(visibility as numeric (18, 2)) as visibility\n",
    "    , cast(tempc as numeric (18, 2)) as tempc\n",
    "    , cast(precipmm as numeric (18, 2)) as precipmm\n",
    "    , cast(humidity as numeric (18, 2)) as humidity\n",
    "    , cast(feelslikec as numeric (18, 2)) as feelslike\n",
    "    , cast(totalSnow_cm as numeric (18, 2)) as totalSnow_cm\n",
    "    FROM staging.weather_data\n",
    "    Where totalsnow_cm <> 'totalSnow_cm'; \"\"\"\n",
    "    ,con=connect)\n",
    "query.hist(figsize = (16, 10))\n",
    "connect.close()"
   ]
  },
  {
   "cell_type": "markdown",
   "id": "cb5df0bb",
   "metadata": {},
   "source": [
    "## Data Transformation & insertion to DW "
   ]
  },
  {
   "cell_type": "markdown",
   "id": "d4481cd8",
   "metadata": {},
   "source": [
    "### Dimension tables"
   ]
  },
  {
   "cell_type": "markdown",
   "id": "72eb8e4d",
   "metadata": {},
   "source": [
    "##### static dimensions - date and time"
   ]
  },
  {
   "cell_type": "code",
   "execution_count": 33,
   "id": "d9460161",
   "metadata": {},
   "outputs": [],
   "source": [
    "date_dim_calc = \"\"\"\n",
    "Insert Into dw.dim_date (id \n",
    "                        , day_of_week \n",
    "                        , day_of_month \n",
    "                        , week \n",
    "                        , month \n",
    "                        , quarter \n",
    "                        , year )\n",
    "Select cast(date_id as date) as date_id\n",
    "    , extract(isodow from date_id)-1 as day_of_week\n",
    "    , extract(day from date_id) as day_of_month\n",
    "    , extract(day from date_id) as week\n",
    "    , extract(month from date_id) as month\n",
    "    , extract(quarter from date_id) as quarter\n",
    "    , extract(year from date_id) as year\n",
    "From generate_series(\n",
    "    '2018-01-01',\n",
    "    '2020-01-01', INTERVAL '1 day'\n",
    "  )as date_id  \n",
    "Where\n",
    "    NOT EXISTS (\n",
    "        Select 1 \n",
    "        From dw.dim_date as fct \n",
    "        Where fct.id = cast(date_id as date)\n",
    "    )\n",
    "\"\"\"\n",
    "\n",
    "hour_dim_calc = \"\"\"\n",
    "Insert Into dw.dim_hour (id)\n",
    "Select hour_id\n",
    "From generate_series(\n",
    "    0,\n",
    "    23\n",
    "  )as hour_id  \n",
    "\n",
    "Where\n",
    "    NOT EXISTS (\n",
    "        Select 1 \n",
    "        From dw.dim_hour as fct \n",
    "        Where fct.id = hour_id\n",
    "    )\n",
    "\"\"\""
   ]
  },
  {
   "cell_type": "markdown",
   "id": "5e7db75f",
   "metadata": {},
   "source": [
    "##### slowly changing dimensions - bike stations"
   ]
  },
  {
   "cell_type": "code",
   "execution_count": 34,
   "id": "2f5658bb",
   "metadata": {},
   "outputs": [],
   "source": [
    "bike_station_dim_calc = \"\"\"\n",
    "DROP TABLE IF EXISTS stations_temp;\n",
    "CREATE TEMP TABLE stations_temp AS\n",
    "SELECT start_station_id as station_id\n",
    "    , start_station_name as station_name\n",
    "    , start_station_latitude as station_latitude\n",
    "    , start_station_longitude as station_longitude\n",
    "FROM staging.bike_data\n",
    "Where start_station_id <> 'start_station_id'\n",
    "Group By \n",
    "      start_station_id\n",
    "    , start_station_name\n",
    "    , start_station_latitude\n",
    "    , start_station_longitude\n",
    "UNION  \n",
    "SELECT end_station_id\n",
    "    , end_station_name\n",
    "    , end_station_latitude\n",
    "    , end_station_longitude\n",
    "FROM staging.bike_data\n",
    "Where start_station_id <> 'start_station_id'\n",
    "Group By \n",
    "      end_station_id\n",
    "    , end_station_name\n",
    "    , end_station_latitude\n",
    "    , end_station_longitude;\n",
    "\n",
    "\n",
    "DROP TABLE IF EXISTS stations_temp_action;\n",
    "CREATE TEMP TABLE stations_temp_action AS\n",
    "Select \n",
    "      st.station_id\n",
    "    , Case \n",
    "        When dw.id Is Null then 'Insert'\n",
    "        When dw.id Is Not Null And Not\n",
    "            (\n",
    "            st.station_name = dw.name\n",
    "            And Cast(st.station_latitude as  numeric(9, 6)) = dw.latitude\n",
    "            And Cast(st.station_longitude as  numeric(9, 6)) = dw.longitude\n",
    "            ) Then 'Update'\n",
    "        End AS Action    \n",
    "From stations_temp AS st\n",
    "    left join \n",
    "    dw.dim_bike_station as dw\n",
    "    on cast(st.station_id as int) = dw.id\n",
    "    and record_end_date IS NULL; \n",
    "\n",
    "-- Records that need insert\n",
    "\n",
    "Insert Into dw.dim_bike_station(id\n",
    "    , record_start_date\n",
    "    , record_end_date\n",
    "    , name\n",
    "    , longitude\n",
    "    , latitude)\n",
    "Select \n",
    "      cast(st.station_id as int)\n",
    "    , CURRENT_TIMESTAMP\n",
    "    , Null\n",
    "    , st.station_name\n",
    "    , cast(st.station_longitude as numeric(9, 6))\n",
    "    , cast(st.station_latitude as numeric(9, 6))\n",
    "From stations_temp As st\n",
    "    Inner Join stations_temp_action As ac\n",
    "    ON st.station_id = ac.station_id\n",
    "Where \n",
    "    ac.Action = 'Insert';\n",
    "    \n",
    "    \n",
    " -- Records that need update:\n",
    " -- 1) close the old records\n",
    "Update dw.dim_bike_station Set record_end_date =  Current_Timestamp - INTERVAL '1 DAY'\n",
    "Where record_end_date IS NULL\n",
    "    And id In (\n",
    "        Select CAST(station_id AS int) \n",
    "        FROM stations_temp_action \n",
    "        WHERE action = 'Update');\n",
    "\n",
    " -- 2) add a new record with updated data\n",
    "Insert Into dw.dim_bike_station(id\n",
    "    , record_start_date\n",
    "    , record_end_date\n",
    "    , name\n",
    "    , longitude\n",
    "    , latitude)\n",
    "Select \n",
    "      cast(st.station_id as int)\n",
    "    , CURRENT_TIMESTAMP\n",
    "    , Null\n",
    "    , st.station_name\n",
    "    , cast(st.station_longitude as numeric(9, 6))\n",
    "    , cast(st.station_latitude as numeric(9, 6))\n",
    "From stations_temp As st\n",
    "    Inner Join stations_temp_action As ac\n",
    "    ON st.station_id = ac.station_id\n",
    "Where \n",
    "    ac.Action = 'Update';\n",
    "\n",
    "\"\"\""
   ]
  },
  {
   "cell_type": "markdown",
   "id": "426b76c3",
   "metadata": {},
   "source": [
    "##### create the function for executing these procedures and then execute them."
   ]
  },
  {
   "cell_type": "code",
   "execution_count": 35,
   "id": "47789bde",
   "metadata": {},
   "outputs": [
    {
     "name": "stdout",
     "output_type": "stream",
     "text": [
      "Wall time: 17.7 s\n"
     ]
    }
   ],
   "source": [
    "%%time\n",
    "def dim_calc_procedures():\n",
    "    try:\n",
    "        conn = create_connection()\n",
    "        cur = conn.cursor()\n",
    "        \n",
    "        cur.execute(date_dim_calc)\n",
    "        cur.execute(hour_dim_calc)\n",
    "        cur.execute(bike_station_dim_calc)\n",
    "        \n",
    "        conn.commit()\n",
    "        cur.close()\n",
    "    except (Exception, psycopg2.DatabaseError) as error:\n",
    "        print(error)\n",
    "    finally:\n",
    "        if conn is not None:\n",
    "            conn.close()\n",
    "\n",
    "dim_calc_procedures()           "
   ]
  },
  {
   "cell_type": "markdown",
   "id": "759c5f17",
   "metadata": {},
   "source": [
    "##### check the populated dimension tables"
   ]
  },
  {
   "cell_type": "code",
   "execution_count": 36,
   "id": "4b252ce2",
   "metadata": {},
   "outputs": [],
   "source": [
    "connect = create_connection()\n",
    "query_hour = pd.read_sql_query(\"\"\"\n",
    "    SELECT *\n",
    "    FROM dw.dim_hour; \"\"\"\n",
    "    ,con=connect)\n",
    "query_date = pd.read_sql_query(\"\"\"\n",
    "    SELECT *\n",
    "    FROM dw.dim_date; \"\"\"\n",
    "    ,con=connect)\n",
    "query_stations = pd.read_sql_query(\"\"\"\n",
    "    SELECT *\n",
    "    FROM dw.dim_bike_station; \"\"\"\n",
    "    ,con=connect)\n",
    "connect.close()"
   ]
  },
  {
   "cell_type": "code",
   "execution_count": 37,
   "id": "f57d4081",
   "metadata": {},
   "outputs": [
    {
     "name": "stdout",
     "output_type": "stream",
     "text": [
      "(24, 1)\n"
     ]
    },
    {
     "data": {
      "text/html": [
       "<div>\n",
       "<style scoped>\n",
       "    .dataframe tbody tr th:only-of-type {\n",
       "        vertical-align: middle;\n",
       "    }\n",
       "\n",
       "    .dataframe tbody tr th {\n",
       "        vertical-align: top;\n",
       "    }\n",
       "\n",
       "    .dataframe thead th {\n",
       "        text-align: right;\n",
       "    }\n",
       "</style>\n",
       "<table border=\"1\" class=\"dataframe\">\n",
       "  <thead>\n",
       "    <tr style=\"text-align: right;\">\n",
       "      <th></th>\n",
       "      <th>id</th>\n",
       "    </tr>\n",
       "  </thead>\n",
       "  <tbody>\n",
       "    <tr>\n",
       "      <th>0</th>\n",
       "      <td>0</td>\n",
       "    </tr>\n",
       "    <tr>\n",
       "      <th>1</th>\n",
       "      <td>1</td>\n",
       "    </tr>\n",
       "  </tbody>\n",
       "</table>\n",
       "</div>"
      ],
      "text/plain": [
       "   id\n",
       "0   0\n",
       "1   1"
      ]
     },
     "execution_count": 37,
     "metadata": {},
     "output_type": "execute_result"
    }
   ],
   "source": [
    "print(query_hour.shape) \n",
    "query_hour.head(2)"
   ]
  },
  {
   "cell_type": "code",
   "execution_count": 38,
   "id": "d6a5e3eb",
   "metadata": {},
   "outputs": [
    {
     "name": "stdout",
     "output_type": "stream",
     "text": [
      "(731, 7)\n"
     ]
    },
    {
     "data": {
      "text/html": [
       "<div>\n",
       "<style scoped>\n",
       "    .dataframe tbody tr th:only-of-type {\n",
       "        vertical-align: middle;\n",
       "    }\n",
       "\n",
       "    .dataframe tbody tr th {\n",
       "        vertical-align: top;\n",
       "    }\n",
       "\n",
       "    .dataframe thead th {\n",
       "        text-align: right;\n",
       "    }\n",
       "</style>\n",
       "<table border=\"1\" class=\"dataframe\">\n",
       "  <thead>\n",
       "    <tr style=\"text-align: right;\">\n",
       "      <th></th>\n",
       "      <th>id</th>\n",
       "      <th>day_of_week</th>\n",
       "      <th>day_of_month</th>\n",
       "      <th>week</th>\n",
       "      <th>month</th>\n",
       "      <th>quarter</th>\n",
       "      <th>year</th>\n",
       "    </tr>\n",
       "  </thead>\n",
       "  <tbody>\n",
       "    <tr>\n",
       "      <th>0</th>\n",
       "      <td>2018-01-01</td>\n",
       "      <td>0</td>\n",
       "      <td>1</td>\n",
       "      <td>1</td>\n",
       "      <td>1</td>\n",
       "      <td>1</td>\n",
       "      <td>2018</td>\n",
       "    </tr>\n",
       "    <tr>\n",
       "      <th>1</th>\n",
       "      <td>2018-01-02</td>\n",
       "      <td>1</td>\n",
       "      <td>2</td>\n",
       "      <td>2</td>\n",
       "      <td>1</td>\n",
       "      <td>1</td>\n",
       "      <td>2018</td>\n",
       "    </tr>\n",
       "  </tbody>\n",
       "</table>\n",
       "</div>"
      ],
      "text/plain": [
       "           id  day_of_week  day_of_month  week  month  quarter  year\n",
       "0  2018-01-01            0             1     1      1        1  2018\n",
       "1  2018-01-02            1             2     2      1        1  2018"
      ]
     },
     "execution_count": 38,
     "metadata": {},
     "output_type": "execute_result"
    }
   ],
   "source": [
    "print(query_date.shape) \n",
    "query_date.head(2)"
   ]
  },
  {
   "cell_type": "code",
   "execution_count": 39,
   "id": "23b6baec",
   "metadata": {},
   "outputs": [
    {
     "name": "stdout",
     "output_type": "stream",
     "text": [
      "(806, 6)\n"
     ]
    },
    {
     "data": {
      "text/html": [
       "<div>\n",
       "<style scoped>\n",
       "    .dataframe tbody tr th:only-of-type {\n",
       "        vertical-align: middle;\n",
       "    }\n",
       "\n",
       "    .dataframe tbody tr th {\n",
       "        vertical-align: top;\n",
       "    }\n",
       "\n",
       "    .dataframe thead th {\n",
       "        text-align: right;\n",
       "    }\n",
       "</style>\n",
       "<table border=\"1\" class=\"dataframe\">\n",
       "  <thead>\n",
       "    <tr style=\"text-align: right;\">\n",
       "      <th></th>\n",
       "      <th>id</th>\n",
       "      <th>record_start_date</th>\n",
       "      <th>record_end_date</th>\n",
       "      <th>name</th>\n",
       "      <th>longitude</th>\n",
       "      <th>latitude</th>\n",
       "    </tr>\n",
       "  </thead>\n",
       "  <tbody>\n",
       "    <tr>\n",
       "      <th>0</th>\n",
       "      <td>119</td>\n",
       "      <td>2021-08-29</td>\n",
       "      <td>None</td>\n",
       "      <td>Park Ave &amp; St Edwards St</td>\n",
       "      <td>-73.978034</td>\n",
       "      <td>40.696089</td>\n",
       "    </tr>\n",
       "    <tr>\n",
       "      <th>1</th>\n",
       "      <td>120</td>\n",
       "      <td>2021-08-29</td>\n",
       "      <td>None</td>\n",
       "      <td>Lexington Ave &amp; Classon Ave</td>\n",
       "      <td>-73.959282</td>\n",
       "      <td>40.686768</td>\n",
       "    </tr>\n",
       "  </tbody>\n",
       "</table>\n",
       "</div>"
      ],
      "text/plain": [
       "    id record_start_date record_end_date                         name  \\\n",
       "0  119        2021-08-29            None     Park Ave & St Edwards St   \n",
       "1  120        2021-08-29            None  Lexington Ave & Classon Ave   \n",
       "\n",
       "   longitude   latitude  \n",
       "0 -73.978034  40.696089  \n",
       "1 -73.959282  40.686768  "
      ]
     },
     "execution_count": 39,
     "metadata": {},
     "output_type": "execute_result"
    }
   ],
   "source": [
    "print(query_stations.shape) \n",
    "query_stations.head(2)"
   ]
  },
  {
   "cell_type": "markdown",
   "id": "04711a67",
   "metadata": {},
   "source": [
    "### Fact tables"
   ]
  },
  {
   "cell_type": "markdown",
   "id": "7d3f7954",
   "metadata": {},
   "source": [
    "##### Define the queries for populating fact tables from the staging area"
   ]
  },
  {
   "cell_type": "code",
   "execution_count": 40,
   "id": "dd2e1392",
   "metadata": {},
   "outputs": [],
   "source": [
    "weather_facts_calc = \"\"\"\n",
    "Insert Into dw.weather_facts(\n",
    "      date_id \n",
    "    , hour_id \n",
    "    , totalSnow_cm \n",
    "    , FeelsLikeC \n",
    "    , humidity \n",
    "    , precipMM \n",
    "    , tempC \n",
    "    , visibility \n",
    "    , windspeedKmph \n",
    ")\n",
    "    \n",
    "Select cast(date_time as date) as date_id\n",
    "    , cast(extract(hour from cast(date_time as timestamp)) as int) AS hour_id\n",
    "    , cast(totalSnow_cm As numeric(18,4))\n",
    "    , cast(FeelsLikeC As numeric(18,4))\n",
    "    , cast(humidity As numeric(18,4))\n",
    "    , cast(precipMM As numeric(18,4))\n",
    "    , cast(tempC As numeric(18,4))\n",
    "    , cast(visibility As numeric(18,4))\n",
    "    , cast(windspeedKmph As numeric(18,4))\n",
    "From staging.weather_data as st\n",
    "Where date_time <> 'date_time'\n",
    "And Not Exists (\n",
    "        Select 1 \n",
    "        From dw.weather_facts as fct \n",
    "        Where fct.date_id = cast(st.date_time as date)\n",
    "        and fct.hour_id = cast(extract(hour from cast(date_time as timestamp)) as int)\n",
    "    )    \n",
    "\"\"\"\n",
    "\n",
    "\n",
    "bike_facts_calc = \"\"\"\n",
    "Insert Into dw.bike_facts(\n",
    "      date_id \n",
    "    , hour_id \n",
    "    , start_station_id \n",
    "    , end_station_id \n",
    "    , trip_distance\n",
    "    , trip_duration \n",
    "    , trip_quantity\n",
    ")\n",
    "Select \n",
    "      cast(starttime As date) As date_id\n",
    "    , cast(extract(hour from cast(starttime As timestamp)) As int) AS hour_id\n",
    "    , cast(start_station_id As int) As start_station_id\n",
    "    , cast(end_station_id As int) As end_station_id\n",
    "    --aggregated\n",
    "    , Sum(cast(trip_distance_meters as numeric(18, 4))) As trip_distance\n",
    "    , Sum(cast(tripduration as numeric(18, 4))) As trip_duration\n",
    "    , count(*) As trip_quantity\n",
    "From staging.bike_data as b\n",
    "    \n",
    "Where tripduration <> 'tripduration'\n",
    "Group By\n",
    "      cast(starttime as date)\n",
    "    , cast(extract(hour from cast(starttime as timestamp)) as int) \n",
    "    , cast(start_station_id As int)\n",
    "    , cast(end_station_id As int)\n",
    "\"\"\"\n",
    "\n",
    "\n",
    "taxi_facts_calc = \"\"\"\n",
    "Insert Into dw.taxi_facts(\n",
    "      date_id \n",
    "    , hour_id \n",
    "    , trip_distance \n",
    "    , trip_duration\n",
    "    , trip_quantity \n",
    "    , trip_cost_total\n",
    ")\n",
    "Select \n",
    "      cast(pickup_datetime As date) As date_id\n",
    "    , cast(extract(hour from cast(pickup_datetime As timestamp)) As int) AS hour_id\n",
    "    \n",
    "    --aggregated\n",
    "    , Sum(cast(trip_distance as numeric(18, 4))) As trip_distance\n",
    "    , Sum(\n",
    "        DATE_PART(\n",
    "          'second'\n",
    "        , cast(dropoff_datetime as timestamp) - cast(pickup_datetime as timestamp)\n",
    "        )\n",
    "    ) As trip_duration\n",
    "    , count(*) As trip_quantity\n",
    "    , Sum(cast(total_amount as numeric(18, 4))) As trip_cost_total \n",
    "From staging.taxi_data as b\n",
    "Where pickup_datetime <> 'pickup_datetime'\n",
    "Group By\n",
    "      cast(pickup_datetime as date)\n",
    "    , cast(extract(hour from cast(pickup_datetime as timestamp)) as int)\n",
    "Having Sum(\n",
    "        DATE_PART(\n",
    "          'second'\n",
    "        , cast(dropoff_datetime as timestamp) - cast(pickup_datetime as timestamp)\n",
    "        )\n",
    "    ) > 0\n",
    "\"\"\"\n"
   ]
  },
  {
   "cell_type": "markdown",
   "id": "512ffe58",
   "metadata": {},
   "source": [
    "##### create a function for executing the fact table procedures and then execute them."
   ]
  },
  {
   "cell_type": "code",
   "execution_count": 41,
   "id": "da0decfb",
   "metadata": {},
   "outputs": [
    {
     "name": "stdout",
     "output_type": "stream",
     "text": [
      "Wall time: 1min 51s\n"
     ]
    }
   ],
   "source": [
    "%%time\n",
    "def fact_calc_procedures():\n",
    "    try:\n",
    "        conn = create_connection()\n",
    "        cur = conn.cursor()\n",
    "        \n",
    "        cur.execute(weather_facts_calc)\n",
    "        cur.execute(bike_facts_calc)\n",
    "        cur.execute(taxi_facts_calc)\n",
    "        \n",
    "        conn.commit()\n",
    "        cur.close()\n",
    "    except (Exception, psycopg2.DatabaseError) as error:\n",
    "        print(error)\n",
    "    finally:\n",
    "        if conn is not None:\n",
    "            conn.close()\n",
    "\n",
    "fact_calc_procedures()           "
   ]
  },
  {
   "cell_type": "markdown",
   "id": "d498f4a5",
   "metadata": {},
   "source": [
    "##### check the populated fact tables"
   ]
  },
  {
   "cell_type": "code",
   "execution_count": 42,
   "id": "1fa95136",
   "metadata": {},
   "outputs": [],
   "source": [
    "connect = create_connection()\n",
    "query_taxi = pd.read_sql_query(\"\"\"\n",
    "Select * from dw.taxi_facts\n",
    "\"\"\",con=connect)\n",
    "query_bike = pd.read_sql_query(\"\"\"\n",
    "Select * from dw.bike_facts\n",
    "\"\"\",con=connect)\n",
    "query_weather = pd.read_sql_query(\"\"\"\n",
    "Select * from dw.weather_facts\n",
    "\"\"\",con=connect)\n",
    "connect.close()"
   ]
  },
  {
   "cell_type": "code",
   "execution_count": 43,
   "id": "8910f1bf",
   "metadata": {},
   "outputs": [
    {
     "name": "stdout",
     "output_type": "stream",
     "text": [
      "(8865, 7)\n"
     ]
    },
    {
     "data": {
      "text/html": [
       "<div>\n",
       "<style scoped>\n",
       "    .dataframe tbody tr th:only-of-type {\n",
       "        vertical-align: middle;\n",
       "    }\n",
       "\n",
       "    .dataframe tbody tr th {\n",
       "        vertical-align: top;\n",
       "    }\n",
       "\n",
       "    .dataframe thead th {\n",
       "        text-align: right;\n",
       "    }\n",
       "</style>\n",
       "<table border=\"1\" class=\"dataframe\">\n",
       "  <thead>\n",
       "    <tr style=\"text-align: right;\">\n",
       "      <th></th>\n",
       "      <th>id</th>\n",
       "      <th>date_id</th>\n",
       "      <th>hour_id</th>\n",
       "      <th>trip_distance</th>\n",
       "      <th>trip_duration</th>\n",
       "      <th>trip_quantity</th>\n",
       "      <th>trip_cost_total</th>\n",
       "    </tr>\n",
       "  </thead>\n",
       "  <tbody>\n",
       "    <tr>\n",
       "      <th>0</th>\n",
       "      <td>1</td>\n",
       "      <td>2008-12-31</td>\n",
       "      <td>9</td>\n",
       "      <td>13.26</td>\n",
       "      <td>10.0</td>\n",
       "      <td>1.0</td>\n",
       "      <td>52.56</td>\n",
       "    </tr>\n",
       "    <tr>\n",
       "      <th>1</th>\n",
       "      <td>2</td>\n",
       "      <td>2008-12-31</td>\n",
       "      <td>11</td>\n",
       "      <td>2.97</td>\n",
       "      <td>10.0</td>\n",
       "      <td>1.0</td>\n",
       "      <td>21.80</td>\n",
       "    </tr>\n",
       "    <tr>\n",
       "      <th>2</th>\n",
       "      <td>3</td>\n",
       "      <td>2008-12-31</td>\n",
       "      <td>12</td>\n",
       "      <td>11.42</td>\n",
       "      <td>45.0</td>\n",
       "      <td>3.0</td>\n",
       "      <td>51.40</td>\n",
       "    </tr>\n",
       "    <tr>\n",
       "      <th>3</th>\n",
       "      <td>4</td>\n",
       "      <td>2008-12-31</td>\n",
       "      <td>14</td>\n",
       "      <td>29.80</td>\n",
       "      <td>15.0</td>\n",
       "      <td>2.0</td>\n",
       "      <td>110.27</td>\n",
       "    </tr>\n",
       "    <tr>\n",
       "      <th>4</th>\n",
       "      <td>5</td>\n",
       "      <td>2008-12-31</td>\n",
       "      <td>18</td>\n",
       "      <td>11.18</td>\n",
       "      <td>5.0</td>\n",
       "      <td>1.0</td>\n",
       "      <td>37.80</td>\n",
       "    </tr>\n",
       "  </tbody>\n",
       "</table>\n",
       "</div>"
      ],
      "text/plain": [
       "   id     date_id  hour_id  trip_distance  trip_duration  trip_quantity  \\\n",
       "0   1  2008-12-31        9          13.26           10.0            1.0   \n",
       "1   2  2008-12-31       11           2.97           10.0            1.0   \n",
       "2   3  2008-12-31       12          11.42           45.0            3.0   \n",
       "3   4  2008-12-31       14          29.80           15.0            2.0   \n",
       "4   5  2008-12-31       18          11.18            5.0            1.0   \n",
       "\n",
       "   trip_cost_total  \n",
       "0            52.56  \n",
       "1            21.80  \n",
       "2            51.40  \n",
       "3           110.27  \n",
       "4            37.80  "
      ]
     },
     "execution_count": 43,
     "metadata": {},
     "output_type": "execute_result"
    }
   ],
   "source": [
    "print(query_taxi.shape)\n",
    "query_taxi.head()"
   ]
  },
  {
   "cell_type": "code",
   "execution_count": 44,
   "id": "04ddcc21",
   "metadata": {},
   "outputs": [
    {
     "name": "stdout",
     "output_type": "stream",
     "text": [
      "(5027932, 8)\n"
     ]
    },
    {
     "data": {
      "text/html": [
       "<div>\n",
       "<style scoped>\n",
       "    .dataframe tbody tr th:only-of-type {\n",
       "        vertical-align: middle;\n",
       "    }\n",
       "\n",
       "    .dataframe tbody tr th {\n",
       "        vertical-align: top;\n",
       "    }\n",
       "\n",
       "    .dataframe thead th {\n",
       "        text-align: right;\n",
       "    }\n",
       "</style>\n",
       "<table border=\"1\" class=\"dataframe\">\n",
       "  <thead>\n",
       "    <tr style=\"text-align: right;\">\n",
       "      <th></th>\n",
       "      <th>id</th>\n",
       "      <th>date_id</th>\n",
       "      <th>hour_id</th>\n",
       "      <th>start_station_id</th>\n",
       "      <th>end_station_id</th>\n",
       "      <th>trip_distance</th>\n",
       "      <th>trip_duration</th>\n",
       "      <th>trip_quantity</th>\n",
       "    </tr>\n",
       "  </thead>\n",
       "  <tbody>\n",
       "    <tr>\n",
       "      <th>0</th>\n",
       "      <td>1</td>\n",
       "      <td>2018-01-01</td>\n",
       "      <td>0</td>\n",
       "      <td>128</td>\n",
       "      <td>382</td>\n",
       "      <td>1269.1418</td>\n",
       "      <td>647.0</td>\n",
       "      <td>1.0</td>\n",
       "    </tr>\n",
       "    <tr>\n",
       "      <th>1</th>\n",
       "      <td>2</td>\n",
       "      <td>2018-01-01</td>\n",
       "      <td>0</td>\n",
       "      <td>146</td>\n",
       "      <td>249</td>\n",
       "      <td>273.6597</td>\n",
       "      <td>101.0</td>\n",
       "      <td>1.0</td>\n",
       "    </tr>\n",
       "    <tr>\n",
       "      <th>2</th>\n",
       "      <td>3</td>\n",
       "      <td>2018-01-01</td>\n",
       "      <td>0</td>\n",
       "      <td>161</td>\n",
       "      <td>439</td>\n",
       "      <td>771.3553</td>\n",
       "      <td>278.0</td>\n",
       "      <td>1.0</td>\n",
       "    </tr>\n",
       "    <tr>\n",
       "      <th>3</th>\n",
       "      <td>4</td>\n",
       "      <td>2018-01-01</td>\n",
       "      <td>0</td>\n",
       "      <td>238</td>\n",
       "      <td>461</td>\n",
       "      <td>2236.5676</td>\n",
       "      <td>1271.0</td>\n",
       "      <td>1.0</td>\n",
       "    </tr>\n",
       "    <tr>\n",
       "      <th>4</th>\n",
       "      <td>5</td>\n",
       "      <td>2018-01-01</td>\n",
       "      <td>0</td>\n",
       "      <td>238</td>\n",
       "      <td>494</td>\n",
       "      <td>1566.2046</td>\n",
       "      <td>399.0</td>\n",
       "      <td>1.0</td>\n",
       "    </tr>\n",
       "  </tbody>\n",
       "</table>\n",
       "</div>"
      ],
      "text/plain": [
       "   id     date_id  hour_id  start_station_id  end_station_id  trip_distance  \\\n",
       "0   1  2018-01-01        0               128             382      1269.1418   \n",
       "1   2  2018-01-01        0               146             249       273.6597   \n",
       "2   3  2018-01-01        0               161             439       771.3553   \n",
       "3   4  2018-01-01        0               238             461      2236.5676   \n",
       "4   5  2018-01-01        0               238             494      1566.2046   \n",
       "\n",
       "   trip_duration  trip_quantity  \n",
       "0          647.0            1.0  \n",
       "1          101.0            1.0  \n",
       "2          278.0            1.0  \n",
       "3         1271.0            1.0  \n",
       "4          399.0            1.0  "
      ]
     },
     "execution_count": 44,
     "metadata": {},
     "output_type": "execute_result"
    }
   ],
   "source": [
    "print(query_bike.shape)\n",
    "query_bike.head()"
   ]
  },
  {
   "cell_type": "code",
   "execution_count": 45,
   "id": "9d8ade26",
   "metadata": {},
   "outputs": [
    {
     "name": "stdout",
     "output_type": "stream",
     "text": [
      "(8760, 10)\n"
     ]
    },
    {
     "data": {
      "text/html": [
       "<div>\n",
       "<style scoped>\n",
       "    .dataframe tbody tr th:only-of-type {\n",
       "        vertical-align: middle;\n",
       "    }\n",
       "\n",
       "    .dataframe tbody tr th {\n",
       "        vertical-align: top;\n",
       "    }\n",
       "\n",
       "    .dataframe thead th {\n",
       "        text-align: right;\n",
       "    }\n",
       "</style>\n",
       "<table border=\"1\" class=\"dataframe\">\n",
       "  <thead>\n",
       "    <tr style=\"text-align: right;\">\n",
       "      <th></th>\n",
       "      <th>id</th>\n",
       "      <th>date_id</th>\n",
       "      <th>hour_id</th>\n",
       "      <th>totalsnow_cm</th>\n",
       "      <th>feelslikec</th>\n",
       "      <th>humidity</th>\n",
       "      <th>precipmm</th>\n",
       "      <th>tempc</th>\n",
       "      <th>visibility</th>\n",
       "      <th>windspeedkmph</th>\n",
       "    </tr>\n",
       "  </thead>\n",
       "  <tbody>\n",
       "    <tr>\n",
       "      <th>0</th>\n",
       "      <td>1</td>\n",
       "      <td>2018-01-01</td>\n",
       "      <td>0</td>\n",
       "      <td>0.0</td>\n",
       "      <td>-21.0</td>\n",
       "      <td>65.0</td>\n",
       "      <td>0.0</td>\n",
       "      <td>-12.0</td>\n",
       "      <td>10.0</td>\n",
       "      <td>23.0</td>\n",
       "    </tr>\n",
       "    <tr>\n",
       "      <th>1</th>\n",
       "      <td>2</td>\n",
       "      <td>2018-01-01</td>\n",
       "      <td>1</td>\n",
       "      <td>0.0</td>\n",
       "      <td>-21.0</td>\n",
       "      <td>64.0</td>\n",
       "      <td>0.0</td>\n",
       "      <td>-12.0</td>\n",
       "      <td>10.0</td>\n",
       "      <td>23.0</td>\n",
       "    </tr>\n",
       "    <tr>\n",
       "      <th>2</th>\n",
       "      <td>3</td>\n",
       "      <td>2018-01-01</td>\n",
       "      <td>2</td>\n",
       "      <td>0.0</td>\n",
       "      <td>-21.0</td>\n",
       "      <td>64.0</td>\n",
       "      <td>0.0</td>\n",
       "      <td>-12.0</td>\n",
       "      <td>10.0</td>\n",
       "      <td>23.0</td>\n",
       "    </tr>\n",
       "    <tr>\n",
       "      <th>3</th>\n",
       "      <td>4</td>\n",
       "      <td>2018-01-01</td>\n",
       "      <td>3</td>\n",
       "      <td>0.0</td>\n",
       "      <td>-21.0</td>\n",
       "      <td>64.0</td>\n",
       "      <td>0.0</td>\n",
       "      <td>-12.0</td>\n",
       "      <td>10.0</td>\n",
       "      <td>23.0</td>\n",
       "    </tr>\n",
       "    <tr>\n",
       "      <th>4</th>\n",
       "      <td>5</td>\n",
       "      <td>2018-01-01</td>\n",
       "      <td>4</td>\n",
       "      <td>0.0</td>\n",
       "      <td>-21.0</td>\n",
       "      <td>64.0</td>\n",
       "      <td>0.0</td>\n",
       "      <td>-12.0</td>\n",
       "      <td>10.0</td>\n",
       "      <td>22.0</td>\n",
       "    </tr>\n",
       "  </tbody>\n",
       "</table>\n",
       "</div>"
      ],
      "text/plain": [
       "   id     date_id  hour_id  totalsnow_cm  feelslikec  humidity  precipmm  \\\n",
       "0   1  2018-01-01        0           0.0       -21.0      65.0       0.0   \n",
       "1   2  2018-01-01        1           0.0       -21.0      64.0       0.0   \n",
       "2   3  2018-01-01        2           0.0       -21.0      64.0       0.0   \n",
       "3   4  2018-01-01        3           0.0       -21.0      64.0       0.0   \n",
       "4   5  2018-01-01        4           0.0       -21.0      64.0       0.0   \n",
       "\n",
       "   tempc  visibility  windspeedkmph  \n",
       "0  -12.0        10.0           23.0  \n",
       "1  -12.0        10.0           23.0  \n",
       "2  -12.0        10.0           23.0  \n",
       "3  -12.0        10.0           23.0  \n",
       "4  -12.0        10.0           22.0  "
      ]
     },
     "execution_count": 45,
     "metadata": {},
     "output_type": "execute_result"
    }
   ],
   "source": [
    "print(query_weather.shape)\n",
    "query_weather.head()"
   ]
  }
 ],
 "metadata": {
  "kernelspec": {
   "display_name": "Python 3",
   "language": "python",
   "name": "python3"
  },
  "language_info": {
   "codemirror_mode": {
    "name": "ipython",
    "version": 3
   },
   "file_extension": ".py",
   "mimetype": "text/x-python",
   "name": "python",
   "nbconvert_exporter": "python",
   "pygments_lexer": "ipython3",
   "version": "3.8.8"
  }
 },
 "nbformat": 4,
 "nbformat_minor": 5
}
